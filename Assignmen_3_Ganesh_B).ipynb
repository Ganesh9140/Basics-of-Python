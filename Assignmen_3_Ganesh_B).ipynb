{
  "cells": [
    {
      "cell_type": "markdown",
      "metadata": {
        "id": "view-in-github",
        "colab_type": "text"
      },
      "source": [
        "<a href=\"https://colab.research.google.com/github/Ganesh9140/Basics-of-Python/blob/main/Assignmen_3_Ganesh_B).ipynb\" target=\"_parent\"><img src=\"https://colab.research.google.com/assets/colab-badge.svg\" alt=\"Open In Colab\"/></a>"
      ]
    },
    {
      "cell_type": "code",
      "execution_count": null,
      "id": "satellite-layer",
      "metadata": {
        "id": "satellite-layer"
      },
      "outputs": [],
      "source": [
        "#25"
      ]
    },
    {
      "cell_type": "code",
      "execution_count": null,
      "id": "latest-messenger",
      "metadata": {
        "id": "latest-messenger"
      },
      "outputs": [],
      "source": [
        "import pandas as pd\n",
        "import matplotlib.pyplot as plt"
      ]
    },
    {
      "cell_type": "code",
      "execution_count": null,
      "id": "fresh-first",
      "metadata": {
        "id": "fresh-first"
      },
      "outputs": [],
      "source": [
        "\n",
        "df=pd.DataFrame({\"Section\":['A',\"B\",\"C\",\"D\",\"E\"],\n",
        "                \"No. of Workers\":[200,367,160,50,49]})\n"
      ]
    },
    {
      "cell_type": "code",
      "execution_count": null,
      "id": "pregnant-plate",
      "metadata": {
        "id": "pregnant-plate",
        "outputId": "f358121d-be0e-4305-b71f-f3ca8d571d99"
      },
      "outputs": [
        {
          "data": {
            "text/html": [
              "<div>\n",
              "<style scoped>\n",
              "    .dataframe tbody tr th:only-of-type {\n",
              "        vertical-align: middle;\n",
              "    }\n",
              "\n",
              "    .dataframe tbody tr th {\n",
              "        vertical-align: top;\n",
              "    }\n",
              "\n",
              "    .dataframe thead th {\n",
              "        text-align: right;\n",
              "    }\n",
              "</style>\n",
              "<table border=\"1\" class=\"dataframe\">\n",
              "  <thead>\n",
              "    <tr style=\"text-align: right;\">\n",
              "      <th></th>\n",
              "      <th>Section</th>\n",
              "      <th>No. of Workers</th>\n",
              "    </tr>\n",
              "  </thead>\n",
              "  <tbody>\n",
              "    <tr>\n",
              "      <th>0</th>\n",
              "      <td>A</td>\n",
              "      <td>200</td>\n",
              "    </tr>\n",
              "    <tr>\n",
              "      <th>1</th>\n",
              "      <td>B</td>\n",
              "      <td>367</td>\n",
              "    </tr>\n",
              "    <tr>\n",
              "      <th>2</th>\n",
              "      <td>C</td>\n",
              "      <td>160</td>\n",
              "    </tr>\n",
              "    <tr>\n",
              "      <th>3</th>\n",
              "      <td>D</td>\n",
              "      <td>50</td>\n",
              "    </tr>\n",
              "    <tr>\n",
              "      <th>4</th>\n",
              "      <td>E</td>\n",
              "      <td>49</td>\n",
              "    </tr>\n",
              "  </tbody>\n",
              "</table>\n",
              "</div>"
            ],
            "text/plain": [
              "  Section  No. of Workers\n",
              "0       A             200\n",
              "1       B             367\n",
              "2       C             160\n",
              "3       D              50\n",
              "4       E              49"
            ]
          },
          "execution_count": 10,
          "metadata": {},
          "output_type": "execute_result"
        }
      ],
      "source": [
        "df"
      ]
    },
    {
      "cell_type": "code",
      "execution_count": null,
      "id": "atomic-fairy",
      "metadata": {
        "id": "atomic-fairy",
        "outputId": "fafcf34f-1764-4a72-9e2d-14094d6e4ed1"
      },
      "outputs": [
        {
          "data": {
            "text/plain": [
              "([<matplotlib.patches.Wedge at 0x11deeb98e08>,\n",
              "  <matplotlib.patches.Wedge at 0x11deeba0c88>,\n",
              "  <matplotlib.patches.Wedge at 0x11deeba8788>,\n",
              "  <matplotlib.patches.Wedge at 0x11deebae288>,\n",
              "  <matplotlib.patches.Wedge at 0x11deebaed88>],\n",
              " [Text(0.7968069918891303, 0.7583525681875123, 'A'),\n",
              "  Text(-1.0724207066739067, 0.24477301300804977, 'B'),\n",
              "  Text(0.22843003826832803, -1.076020314685894, 'C'),\n",
              "  Text(0.9302820134028655, -0.5870054305874103, 'D'),\n",
              "  Text(1.0809525423480528, -0.20381756840685064, 'E')])"
            ]
          },
          "execution_count": 15,
          "metadata": {},
          "output_type": "execute_result"
        },
        {
          "data": {
            "image/png": "[encoded data removed]",
            "text/plain": [
              "<Figure size 432x288 with 1 Axes>"
            ]
          },
          "metadata": {},
          "output_type": "display_data"
        }
      ],
      "source": [
        "plt.pie(df['No. of Workers'],labels=df['Section'])"
      ]
    },
    {
      "cell_type": "code",
      "execution_count": null,
      "id": "capable-mortality",
      "metadata": {
        "id": "capable-mortality"
      },
      "outputs": [],
      "source": [
        ""
      ]
    },
    {
      "cell_type": "code",
      "execution_count": null,
      "id": "bottom-anchor",
      "metadata": {
        "id": "bottom-anchor"
      },
      "outputs": [],
      "source": [
        "#df"
      ]
    },
    {
      "cell_type": "code",
      "execution_count": null,
      "id": "permanent-robinson",
      "metadata": {
        "id": "permanent-robinson"
      },
      "outputs": [],
      "source": [
        "df1=pd.DataFrame({\"Subject\": [\"Chemistry\",\"Electronics\",\"Mathematics\",\"Physics\",\"Statistics\"],\n",
        "                 \"No. of Students (%)\":[23.17, 13.51, 17.37, 18.92, 27.03]})"
      ]
    },
    {
      "cell_type": "code",
      "execution_count": null,
      "id": "foreign-constitutional",
      "metadata": {
        "id": "foreign-constitutional",
        "outputId": "77ebdb35-dc52-4177-a38a-6eeed7308fa4"
      },
      "outputs": [
        {
          "data": {
            "text/html": [
              "<div>\n",
              "<style scoped>\n",
              "    .dataframe tbody tr th:only-of-type {\n",
              "        vertical-align: middle;\n",
              "    }\n",
              "\n",
              "    .dataframe tbody tr th {\n",
              "        vertical-align: top;\n",
              "    }\n",
              "\n",
              "    .dataframe thead th {\n",
              "        text-align: right;\n",
              "    }\n",
              "</style>\n",
              "<table border=\"1\" class=\"dataframe\">\n",
              "  <thead>\n",
              "    <tr style=\"text-align: right;\">\n",
              "      <th></th>\n",
              "      <th>Subject</th>\n",
              "      <th>No. of Students (%)</th>\n",
              "    </tr>\n",
              "  </thead>\n",
              "  <tbody>\n",
              "    <tr>\n",
              "      <th>0</th>\n",
              "      <td>Chemistry</td>\n",
              "      <td>23.17</td>\n",
              "    </tr>\n",
              "    <tr>\n",
              "      <th>1</th>\n",
              "      <td>Electronics</td>\n",
              "      <td>13.51</td>\n",
              "    </tr>\n",
              "    <tr>\n",
              "      <th>2</th>\n",
              "      <td>Mathematics</td>\n",
              "      <td>17.37</td>\n",
              "    </tr>\n",
              "    <tr>\n",
              "      <th>3</th>\n",
              "      <td>Physics</td>\n",
              "      <td>18.92</td>\n",
              "    </tr>\n",
              "    <tr>\n",
              "      <th>4</th>\n",
              "      <td>Statistics</td>\n",
              "      <td>27.03</td>\n",
              "    </tr>\n",
              "  </tbody>\n",
              "</table>\n",
              "</div>"
            ],
            "text/plain": [
              "       Subject  No. of Students (%)\n",
              "0    Chemistry                23.17\n",
              "1  Electronics                13.51\n",
              "2  Mathematics                17.37\n",
              "3      Physics                18.92\n",
              "4   Statistics                27.03"
            ]
          },
          "execution_count": 17,
          "metadata": {},
          "output_type": "execute_result"
        }
      ],
      "source": [
        "df1"
      ]
    },
    {
      "cell_type": "code",
      "execution_count": null,
      "id": "sitting-preservation",
      "metadata": {
        "id": "sitting-preservation",
        "outputId": "213bb4d0-2c96-42a9-ad06-062aa56f67b1"
      },
      "outputs": [
        {
          "data": {
            "text/plain": [
              "([<matplotlib.patches.Wedge at 0x219d2903908>,\n",
              "  <matplotlib.patches.Wedge at 0x219d290cd48>,\n",
              "  <matplotlib.patches.Wedge at 0x219d2917448>,\n",
              "  <matplotlib.patches.Wedge at 0x219d2917b08>,\n",
              "  <matplotlib.patches.Wedge at 0x219d29211c8>],\n",
              " [Text(0.8212253597392717, 0.7318394007711692, 'Chemistry'),\n",
              "  Text(-0.3349850587205633, 1.0477523612161324, 'Electronics'),\n",
              "  Text(-1.0536819748682784, 0.3158390346959743, 'Mathematics'),\n",
              "  Text(-0.7269243934892979, -0.8255791459031753, 'Physics'),\n",
              "  Text(0.7266651445270067, -0.8258073429859683, 'Statistics')])"
            ]
          },
          "execution_count": 19,
          "metadata": {},
          "output_type": "execute_result"
        },
        {
          "data": {
            "image/png": "[encoded data removed]",
            "text/plain": [
              "<Figure size 1440x720 with 1 Axes>"
            ]
          },
          "metadata": {},
          "output_type": "display_data"
        }
      ],
      "source": [
        "plt.figure(figsize=(20,10))\n",
        "plt.pie(df1['No. of Students (%)'],labels=df1['Subject'])"
      ]
    },
    {
      "cell_type": "code",
      "execution_count": null,
      "id": "important-walnut",
      "metadata": {
        "id": "important-walnut"
      },
      "outputs": [],
      "source": [
        ""
      ]
    },
    {
      "cell_type": "code",
      "execution_count": null,
      "id": "afraid-modification",
      "metadata": {
        "id": "afraid-modification"
      },
      "outputs": [],
      "source": [
        ""
      ]
    },
    {
      "cell_type": "code",
      "execution_count": null,
      "id": "weird-smith",
      "metadata": {
        "id": "weird-smith"
      },
      "outputs": [],
      "source": [
        "#26"
      ]
    },
    {
      "cell_type": "code",
      "execution_count": null,
      "id": "advanced-retail",
      "metadata": {
        "id": "advanced-retail"
      },
      "outputs": [],
      "source": [
        "import pandas as pd\n",
        "import numpy as np\n",
        "import matplotlib.pyplot as plt"
      ]
    },
    {
      "cell_type": "code",
      "execution_count": null,
      "id": "latin-soldier",
      "metadata": {
        "id": "latin-soldier"
      },
      "outputs": [],
      "source": [
        "df=pd.DataFrame({\"Year\":[\"2017-18\",'2018-19','2019-20'],\n",
        "             \"Arts\":[750,725,850],\n",
        "                \"Commerce\":[1450,1625,1750]})"
      ]
    },
    {
      "cell_type": "code",
      "execution_count": null,
      "id": "handed-venice",
      "metadata": {
        "colab": {
          "base_uri": "https://localhost:8080/",
          "height": 282
        },
        "id": "handed-venice",
        "outputId": "ff86c182-85d8-45a3-dd4e-26e5dde71103"
      },
      "outputs": [
        {
          "output_type": "execute_result",
          "data": {
            "text/plain": [
              "<BarContainer object of 3 artists>"
            ]
          },
          "metadata": {},
          "execution_count": 3
        },
        {
          "output_type": "display_data",
          "data": {
            "text/plain": [
              "<Figure size 432x288 with 1 Axes>"
            ],
            "image/png": "[encoded data removed]"
          },
          "metadata": {
            "needs_background": "light"
          }
        }
      ],
      "source": [
        "plt.bar(df['Year'],df['Arts'])\n",
        "plt.bar(df['Year'],df['Commerce'],bottom=df['Arts'])"
      ]
    },
    {
      "cell_type": "code",
      "execution_count": null,
      "id": "increasing-census",
      "metadata": {
        "id": "increasing-census"
      },
      "outputs": [],
      "source": [
        ""
      ]
    },
    {
      "cell_type": "code",
      "execution_count": null,
      "id": "finished-supplement",
      "metadata": {
        "id": "finished-supplement"
      },
      "outputs": [],
      "source": [
        "#27"
      ]
    },
    {
      "cell_type": "code",
      "execution_count": null,
      "id": "ordered-polish",
      "metadata": {
        "id": "ordered-polish"
      },
      "outputs": [],
      "source": [
        "import pandas as pd\n",
        "import numpy as np\n",
        "import matplotlib.pyplot as plt"
      ]
    },
    {
      "cell_type": "code",
      "execution_count": null,
      "id": "above-charger",
      "metadata": {
        "id": "above-charger"
      },
      "outputs": [],
      "source": [
        "df=pd.DataFrame({'Year':[2016,2017,2018,2019,2020],\n",
        "             \"Turnover (lakhs)\":[6.5,6.7,6.9,7,8],\n",
        "             \"Profit(Lakhs)\":[1.2,1.7,1.8,1.9,2]})"
      ]
    },
    {
      "cell_type": "code",
      "execution_count": null,
      "id": "other-daughter",
      "metadata": {
        "colab": {
          "base_uri": "https://localhost:8080/",
          "height": 282
        },
        "id": "other-daughter",
        "outputId": "db142420-3611-438e-bdf1-c099562c7c7e"
      },
      "outputs": [
        {
          "output_type": "execute_result",
          "data": {
            "text/plain": [
              "<BarContainer object of 5 artists>"
            ]
          },
          "metadata": {},
          "execution_count": 6
        },
        {
          "output_type": "display_data",
          "data": {
            "text/plain": [
              "<Figure size 432x288 with 1 Axes>"
            ],
            "image/png": "[encoded data removed]"
          },
          "metadata": {
            "needs_background": "light"
          }
        }
      ],
      "source": [
        "plt.bar(df['Year'],df['Turnover (lakhs)'])"
      ]
    },
    {
      "cell_type": "code",
      "execution_count": null,
      "id": "generic-norman",
      "metadata": {
        "colab": {
          "base_uri": "https://localhost:8080/",
          "height": 282
        },
        "id": "generic-norman",
        "outputId": "2b212cd1-08ce-4590-b336-613732be5c66"
      },
      "outputs": [
        {
          "output_type": "execute_result",
          "data": {
            "text/plain": [
              "<BarContainer object of 5 artists>"
            ]
          },
          "metadata": {},
          "execution_count": 7
        },
        {
          "output_type": "display_data",
          "data": {
            "text/plain": [
              "<Figure size 432x288 with 1 Axes>"
            ],
            "image/png": "[encoded data removed]"
          },
          "metadata": {
            "needs_background": "light"
          }
        }
      ],
      "source": [
        "plt.bar(df['Year'],df['Profit(Lakhs)'])"
      ]
    },
    {
      "cell_type": "code",
      "execution_count": null,
      "id": "abstract-minimum",
      "metadata": {
        "colab": {
          "base_uri": "https://localhost:8080/",
          "height": 279
        },
        "id": "abstract-minimum",
        "outputId": "4b0adbdb-cb65-41e1-d3ec-387bbab647c8"
      },
      "outputs": [
        {
          "output_type": "execute_result",
          "data": {
            "text/plain": [
              "Text(0, 0.5, 'Profit(Lakhs)')"
            ]
          },
          "metadata": {},
          "execution_count": 8
        },
        {
          "output_type": "display_data",
          "data": {
            "text/plain": [
              "<Figure size 432x288 with 1 Axes>"
            ],
            "image/png": "[encoded data removed]"
          },
          "metadata": {
            "needs_background": "light"
          }
        }
      ],
      "source": [
        "df['Profit(Lakhs)'].plot(kind='bar')\n",
        "plt.ylabel(\"Profit(Lakhs)\")"
      ]
    },
    {
      "cell_type": "code",
      "execution_count": null,
      "id": "moral-billion",
      "metadata": {
        "id": "moral-billion"
      },
      "outputs": [],
      "source": [
        ""
      ]
    },
    {
      "cell_type": "code",
      "execution_count": null,
      "id": "fifty-arcade",
      "metadata": {
        "id": "fifty-arcade"
      },
      "outputs": [],
      "source": [
        ""
      ]
    },
    {
      "cell_type": "code",
      "execution_count": null,
      "id": "assigned-steps",
      "metadata": {
        "id": "assigned-steps"
      },
      "outputs": [],
      "source": [
        "#29"
      ]
    },
    {
      "cell_type": "code",
      "execution_count": null,
      "id": "congressional-talent",
      "metadata": {
        "id": "congressional-talent"
      },
      "outputs": [],
      "source": [
        "import pandas as pd\n",
        "import matplotlib.pyplot as plt\n",
        "import seaborn as sns\n",
        "import numpy as np"
      ]
    },
    {
      "cell_type": "code",
      "execution_count": null,
      "id": "devoted-place",
      "metadata": {
        "id": "devoted-place"
      },
      "outputs": [],
      "source": [
        "df=pd.DataFrame({\"a\":[15, 17, 29, 37, 5, 12, 45, 16, 29, 32, 18, 22, 24, 7, 13]})"
      ]
    },
    {
      "cell_type": "code",
      "execution_count": null,
      "id": "bright-yellow",
      "metadata": {
        "colab": {
          "base_uri": "https://localhost:8080/",
          "height": 282
        },
        "id": "bright-yellow",
        "outputId": "c765df33-f304-4910-a9a5-37760722ab02"
      },
      "outputs": [
        {
          "output_type": "execute_result",
          "data": {
            "text/plain": [
              "<matplotlib.axes._subplots.AxesSubplot at 0x7fc7178c0210>"
            ]
          },
          "metadata": {},
          "execution_count": 11
        },
        {
          "output_type": "display_data",
          "data": {
            "text/plain": [
              "<Figure size 432x288 with 1 Axes>"
            ],
            "image/png": "[encoded data removed]"
          },
          "metadata": {
            "needs_background": "light"
          }
        }
      ],
      "source": [
        "sns.boxplot(data=df['a'])"
      ]
    },
    {
      "cell_type": "code",
      "execution_count": null,
      "id": "painful-payroll",
      "metadata": {
        "id": "painful-payroll"
      },
      "outputs": [],
      "source": [
        "arr=np.random.randn(200)"
      ]
    },
    {
      "cell_type": "code",
      "execution_count": null,
      "id": "nuclear-glasgow",
      "metadata": {
        "id": "nuclear-glasgow"
      },
      "outputs": [],
      "source": [
        "df_generated=pd.DataFrame(arr)"
      ]
    },
    {
      "cell_type": "code",
      "execution_count": null,
      "id": "colored-rotation",
      "metadata": {
        "colab": {
          "base_uri": "https://localhost:8080/",
          "height": 424
        },
        "id": "colored-rotation",
        "outputId": "89c497ea-3c5a-4d5d-e8f7-a43ee50c22bc"
      },
      "outputs": [
        {
          "output_type": "execute_result",
          "data": {
            "text/plain": [
              "            0\n",
              "0   -0.512995\n",
              "1   -0.503548\n",
              "2   -0.554313\n",
              "3    0.180917\n",
              "4   -0.026968\n",
              "..        ...\n",
              "195 -0.730139\n",
              "196  0.215723\n",
              "197  0.754802\n",
              "198  0.198150\n",
              "199  0.479447\n",
              "\n",
              "[200 rows x 1 columns]"
            ],
            "text/html": [
              "\n",
              "  <div id=\"df-698d22e4-4733-4481-b683-ec52c5077bfb\">\n",
              "    <div class=\"colab-df-container\">\n",
              "      <div>\n",
              "<style scoped>\n",
              "    .dataframe tbody tr th:only-of-type {\n",
              "        vertical-align: middle;\n",
              "    }\n",
              "\n",
              "    .dataframe tbody tr th {\n",
              "        vertical-align: top;\n",
              "    }\n",
              "\n",
              "    .dataframe thead th {\n",
              "        text-align: right;\n",
              "    }\n",
              "</style>\n",
              "<table border=\"1\" class=\"dataframe\">\n",
              "  <thead>\n",
              "    <tr style=\"text-align: right;\">\n",
              "      <th></th>\n",
              "      <th>0</th>\n",
              "    </tr>\n",
              "  </thead>\n",
              "  <tbody>\n",
              "    <tr>\n",
              "      <th>0</th>\n",
              "      <td>-0.512995</td>\n",
              "    </tr>\n",
              "    <tr>\n",
              "      <th>1</th>\n",
              "      <td>-0.503548</td>\n",
              "    </tr>\n",
              "    <tr>\n",
              "      <th>2</th>\n",
              "      <td>-0.554313</td>\n",
              "    </tr>\n",
              "    <tr>\n",
              "      <th>3</th>\n",
              "      <td>0.180917</td>\n",
              "    </tr>\n",
              "    <tr>\n",
              "      <th>4</th>\n",
              "      <td>-0.026968</td>\n",
              "    </tr>\n",
              "    <tr>\n",
              "      <th>...</th>\n",
              "      <td>...</td>\n",
              "    </tr>\n",
              "    <tr>\n",
              "      <th>195</th>\n",
              "      <td>-0.730139</td>\n",
              "    </tr>\n",
              "    <tr>\n",
              "      <th>196</th>\n",
              "      <td>0.215723</td>\n",
              "    </tr>\n",
              "    <tr>\n",
              "      <th>197</th>\n",
              "      <td>0.754802</td>\n",
              "    </tr>\n",
              "    <tr>\n",
              "      <th>198</th>\n",
              "      <td>0.198150</td>\n",
              "    </tr>\n",
              "    <tr>\n",
              "      <th>199</th>\n",
              "      <td>0.479447</td>\n",
              "    </tr>\n",
              "  </tbody>\n",
              "</table>\n",
              "<p>200 rows × 1 columns</p>\n",
              "</div>\n",
              "      <button class=\"colab-df-convert\" onclick=\"convertToInteractive('df-698d22e4-4733-4481-b683-ec52c5077bfb')\"\n",
              "              title=\"Convert this dataframe to an interactive table.\"\n",
              "              style=\"display:none;\">\n",
              "        \n",
              "  <svg xmlns=\"http://www.w3.org/2000/svg\" height=\"24px\"viewBox=\"0 0 24 24\"\n",
              "       width=\"24px\">\n",
              "    <path d=\"M0 0h24v24H0V0z\" fill=\"none\"/>\n",
              "    <path d=\"M18.56 5.44l.94 2.06.94-2.06 2.06-.94-2.06-.94-.94-2.06-.94 2.06-2.06.94zm-11 1L8.5 8.5l.94-2.06 2.06-.94-2.06-.94L8.5 2.5l-.94 2.06-2.06.94zm10 10l.94 2.06.94-2.06 2.06-.94-2.06-.94-.94-2.06-.94 2.06-2.06.94z\"/><path d=\"M17.41 7.96l-1.37-1.37c-.4-.4-.92-.59-1.43-.59-.52 0-1.04.2-1.43.59L10.3 9.45l-7.72 7.72c-.78.78-.78 2.05 0 2.83L4 21.41c.39.39.9.59 1.41.59.51 0 1.02-.2 1.41-.59l7.78-7.78 2.81-2.81c.8-.78.8-2.07 0-2.86zM5.41 20L4 18.59l7.72-7.72 1.47 1.35L5.41 20z\"/>\n",
              "  </svg>\n",
              "      </button>\n",
              "      \n",
              "  <style>\n",
              "    .colab-df-container {\n",
              "      display:flex;\n",
              "      flex-wrap:wrap;\n",
              "      gap: 12px;\n",
              "    }\n",
              "\n",
              "    .colab-df-convert {\n",
              "      background-color: #E8F0FE;\n",
              "      border: none;\n",
              "      border-radius: 50%;\n",
              "      cursor: pointer;\n",
              "      display: none;\n",
              "      fill: #1967D2;\n",
              "      height: 32px;\n",
              "      padding: 0 0 0 0;\n",
              "      width: 32px;\n",
              "    }\n",
              "\n",
              "    .colab-df-convert:hover {\n",
              "      background-color: #E2EBFA;\n",
              "      box-shadow: 0px 1px 2px rgba(60, 64, 67, 0.3), 0px 1px 3px 1px rgba(60, 64, 67, 0.15);\n",
              "      fill: #174EA6;\n",
              "    }\n",
              "\n",
              "    [theme=dark] .colab-df-convert {\n",
              "      background-color: #3B4455;\n",
              "      fill: #D2E3FC;\n",
              "    }\n",
              "\n",
              "    [theme=dark] .colab-df-convert:hover {\n",
              "      background-color: #434B5C;\n",
              "      box-shadow: 0px 1px 3px 1px rgba(0, 0, 0, 0.15);\n",
              "      filter: drop-shadow(0px 1px 2px rgba(0, 0, 0, 0.3));\n",
              "      fill: #FFFFFF;\n",
              "    }\n",
              "  </style>\n",
              "\n",
              "      <script>\n",
              "        const buttonEl =\n",
              "          document.querySelector('#df-698d22e4-4733-4481-b683-ec52c5077bfb button.colab-df-convert');\n",
              "        buttonEl.style.display =\n",
              "          google.colab.kernel.accessAllowed ? 'block' : 'none';\n",
              "\n",
              "        async function convertToInteractive(key) {\n",
              "          const element = document.querySelector('#df-698d22e4-4733-4481-b683-ec52c5077bfb');\n",
              "          const dataTable =\n",
              "            await google.colab.kernel.invokeFunction('convertToInteractive',\n",
              "                                                     [key], {});\n",
              "          if (!dataTable) return;\n",
              "\n",
              "          const docLinkHtml = 'Like what you see? Visit the ' +\n",
              "            '<a target=\"_blank\" href=https://colab.research.google.com/notebooks/data_table.ipynb>data table notebook</a>'\n",
              "            + ' to learn more about interactive tables.';\n",
              "          element.innerHTML = '';\n",
              "          dataTable['output_type'] = 'display_data';\n",
              "          await google.colab.output.renderOutput(dataTable, element);\n",
              "          const docLink = document.createElement('div');\n",
              "          docLink.innerHTML = docLinkHtml;\n",
              "          element.appendChild(docLink);\n",
              "        }\n",
              "      </script>\n",
              "    </div>\n",
              "  </div>\n",
              "  "
            ]
          },
          "metadata": {},
          "execution_count": 14
        }
      ],
      "source": [
        "df_generated"
      ]
    },
    {
      "cell_type": "code",
      "execution_count": null,
      "id": "automatic-reviewer",
      "metadata": {
        "colab": {
          "base_uri": "https://localhost:8080/",
          "height": 282
        },
        "id": "automatic-reviewer",
        "outputId": "1a4bd7bd-8430-409c-a4cd-aaba792d7719"
      },
      "outputs": [
        {
          "output_type": "execute_result",
          "data": {
            "text/plain": [
              "<matplotlib.axes._subplots.AxesSubplot at 0x7fc7178ae0d0>"
            ]
          },
          "metadata": {},
          "execution_count": 15
        },
        {
          "output_type": "display_data",
          "data": {
            "text/plain": [
              "<Figure size 432x288 with 1 Axes>"
            ],
            "image/png": "[encoded data removed]"
          },
          "metadata": {
            "needs_background": "light"
          }
        }
      ],
      "source": [
        "df_generated.plot(kind='hist')"
      ]
    },
    {
      "cell_type": "code",
      "execution_count": null,
      "id": "authentic-transport",
      "metadata": {
        "id": "authentic-transport"
      },
      "outputs": [],
      "source": [
        ""
      ]
    },
    {
      "cell_type": "code",
      "execution_count": null,
      "id": "legal-prediction",
      "metadata": {
        "id": "legal-prediction"
      },
      "outputs": [],
      "source": [
        "#30"
      ]
    },
    {
      "cell_type": "code",
      "execution_count": null,
      "id": "gothic-affairs",
      "metadata": {
        "id": "gothic-affairs"
      },
      "outputs": [],
      "source": [
        "import pandas as pd\n",
        "import matplotlib.pyplot as plt\n",
        "import seaborn as sns"
      ]
    },
    {
      "cell_type": "code",
      "execution_count": null,
      "id": "copyrighted-evanescence",
      "metadata": {
        "id": "copyrighted-evanescence"
      },
      "outputs": [],
      "source": [
        "df=pd.DataFrame({\"X\":[2,5,7,8,9,11,13],\n",
        "             \"Y\":[8,13,18,20,21,25,30]})"
      ]
    },
    {
      "cell_type": "code",
      "execution_count": null,
      "id": "photographic-infection",
      "metadata": {
        "colab": {
          "base_uri": "https://localhost:8080/",
          "height": 351
        },
        "id": "photographic-infection",
        "outputId": "d93e9e66-bb93-448e-cb4c-0b15e0ebc848"
      },
      "outputs": [
        {
          "output_type": "stream",
          "name": "stderr",
          "text": [
            "/usr/local/lib/python3.7/dist-packages/seaborn/_decorators.py:43: FutureWarning: Pass the following variables as keyword args: x, y. From version 0.12, the only valid positional argument will be `data`, and passing other arguments without an explicit keyword will result in an error or misinterpretation.\n",
            "  FutureWarning\n"
          ]
        },
        {
          "output_type": "execute_result",
          "data": {
            "text/plain": [
              "<matplotlib.axes._subplots.AxesSubplot at 0x7fc7177ecad0>"
            ]
          },
          "metadata": {},
          "execution_count": 18
        },
        {
          "output_type": "display_data",
          "data": {
            "text/plain": [
              "<Figure size 432x288 with 1 Axes>"
            ],
            "image/png": "[encoded data removed]"
          },
          "metadata": {
            "needs_background": "light"
          }
        }
      ],
      "source": [
        "sns.scatterplot(df[\"X\"],df['Y'])"
      ]
    },
    {
      "cell_type": "code",
      "execution_count": null,
      "id": "satellite-discussion",
      "metadata": {
        "id": "satellite-discussion"
      },
      "outputs": [],
      "source": [
        ""
      ]
    },
    {
      "cell_type": "code",
      "execution_count": null,
      "id": "bibliographic-circle",
      "metadata": {
        "id": "bibliographic-circle"
      },
      "outputs": [],
      "source": [
        "#31"
      ]
    },
    {
      "cell_type": "code",
      "execution_count": null,
      "id": "korean-intellectual",
      "metadata": {
        "id": "korean-intellectual"
      },
      "outputs": [],
      "source": [
        "import numpy as np\n",
        "import pandas as pd\n",
        "import seaborn as sns"
      ]
    },
    {
      "cell_type": "code",
      "execution_count": null,
      "id": "descending-component",
      "metadata": {
        "id": "descending-component"
      },
      "outputs": [],
      "source": [
        "data=np.random.uniform(0,1,60)"
      ]
    },
    {
      "cell_type": "code",
      "execution_count": null,
      "id": "direct-company",
      "metadata": {
        "id": "direct-company"
      },
      "outputs": [],
      "source": [
        "y=(-0.8*(data))"
      ]
    },
    {
      "cell_type": "code",
      "execution_count": null,
      "id": "bearing-reset",
      "metadata": {
        "colab": {
          "base_uri": "https://localhost:8080/",
          "height": 337
        },
        "id": "bearing-reset",
        "outputId": "29689b60-17af-4ada-ead8-063e4e81c081"
      },
      "outputs": [
        {
          "output_type": "stream",
          "name": "stderr",
          "text": [
            "/usr/local/lib/python3.7/dist-packages/seaborn/_decorators.py:43: FutureWarning: Pass the following variables as keyword args: x, y. From version 0.12, the only valid positional argument will be `data`, and passing other arguments without an explicit keyword will result in an error or misinterpretation.\n",
            "  FutureWarning\n"
          ]
        },
        {
          "output_type": "execute_result",
          "data": {
            "text/plain": [
              "<matplotlib.axes._subplots.AxesSubplot at 0x7fc7176fe990>"
            ]
          },
          "metadata": {},
          "execution_count": 22
        },
        {
          "output_type": "display_data",
          "data": {
            "text/plain": [
              "<Figure size 432x288 with 1 Axes>"
            ],
            "image/png": "[encoded data removed]"
          },
          "metadata": {
            "needs_background": "light"
          }
        }
      ],
      "source": [
        "sns.scatterplot(data,y)"
      ]
    },
    {
      "cell_type": "code",
      "execution_count": null,
      "id": "attempted-valuation",
      "metadata": {
        "id": "attempted-valuation"
      },
      "outputs": [],
      "source": [
        ""
      ]
    },
    {
      "cell_type": "code",
      "execution_count": null,
      "id": "entitled-stanford",
      "metadata": {
        "id": "entitled-stanford"
      },
      "outputs": [],
      "source": [
        "#32"
      ]
    },
    {
      "cell_type": "code",
      "execution_count": null,
      "id": "traditional-sixth",
      "metadata": {
        "id": "traditional-sixth"
      },
      "outputs": [],
      "source": [
        "import numpy as np\n",
        "import seaborn as sns"
      ]
    },
    {
      "cell_type": "code",
      "execution_count": null,
      "id": "popular-behalf",
      "metadata": {
        "id": "popular-behalf"
      },
      "outputs": [],
      "source": [
        "data=np.random.normal(10,5,50)"
      ]
    },
    {
      "cell_type": "code",
      "execution_count": null,
      "id": "classical-socket",
      "metadata": {
        "id": "classical-socket"
      },
      "outputs": [],
      "source": [
        "y=(2+0.5*(data))"
      ]
    },
    {
      "cell_type": "code",
      "execution_count": null,
      "id": "acute-eating",
      "metadata": {
        "colab": {
          "base_uri": "https://localhost:8080/",
          "height": 337
        },
        "id": "acute-eating",
        "outputId": "3bf620d2-d53f-4e3c-8304-a0b70a2b97e9"
      },
      "outputs": [
        {
          "output_type": "stream",
          "name": "stderr",
          "text": [
            "/usr/local/lib/python3.7/dist-packages/seaborn/_decorators.py:43: FutureWarning: Pass the following variables as keyword args: x, y. From version 0.12, the only valid positional argument will be `data`, and passing other arguments without an explicit keyword will result in an error or misinterpretation.\n",
            "  FutureWarning\n"
          ]
        },
        {
          "output_type": "execute_result",
          "data": {
            "text/plain": [
              "<matplotlib.axes._subplots.AxesSubplot at 0x7fc717694e90>"
            ]
          },
          "metadata": {},
          "execution_count": 26
        },
        {
          "output_type": "display_data",
          "data": {
            "text/plain": [
              "<Figure size 432x288 with 1 Axes>"
            ],
            "image/png": "[encoded data removed]"
          },
          "metadata": {
            "needs_background": "light"
          }
        }
      ],
      "source": [
        "sns.scatterplot(data,y)"
      ]
    },
    {
      "cell_type": "code",
      "execution_count": null,
      "id": "defensive-penetration",
      "metadata": {
        "id": "defensive-penetration"
      },
      "outputs": [],
      "source": [
        ""
      ]
    }
  ],
  "metadata": {
    "kernelspec": {
      "display_name": "Python 3",
      "language": "python",
      "name": "python3"
    },
    "language_info": {
      "codemirror_mode": {
        "name": "ipython",
        "version": 3
      },
      "file_extension": ".py",
      "mimetype": "text/x-python",
      "name": "python",
      "nbconvert_exporter": "python",
      "pygments_lexer": "ipython3",
      "version": "3.7.9"
    },
    "colab": {
      "name": "Assignmen_3 Ganesh B).ipynb",
      "provenance": [],
      "include_colab_link": true
    }
  },
  "nbformat": 4,
  "nbformat_minor": 5
}