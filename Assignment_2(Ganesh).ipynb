{
  "cells": [
    {
      "cell_type": "markdown",
      "metadata": {
        "id": "view-in-github",
        "colab_type": "text"
      },
      "source": [
        "<a href=\"https://colab.research.google.com/github/Ganesh9140/Basics-of-Python/blob/main/Assignment_2(Ganesh).ipynb\" target=\"_parent\"><img src=\"https://colab.research.google.com/assets/colab-badge.svg\" alt=\"Open In Colab\"/></a>"
      ]
    },
    {
      "cell_type": "markdown",
      "id": "9835bad0",
      "metadata": {
        "id": "9835bad0"
      },
      "source": [
        "# Q.1"
      ]
    },
    {
      "cell_type": "code",
      "execution_count": null,
      "id": "c92b9cce",
      "metadata": {
        "colab": {
          "base_uri": "https://localhost:8080/",
          "height": 53
        },
        "id": "c92b9cce",
        "outputId": "1983291d-a869-47e3-bf22-67169f054d4d"
      },
      "outputs": [
        {
          "name": "stdout",
          "output_type": "stream",
          "text": [
            "Ganesh\n"
          ]
        },
        {
          "output_type": "execute_result",
          "data": {
            "text/plain": [
              "'hsenaG'"
            ],
            "application/vnd.google.colaboratory.intrinsic+json": {
              "type": "string"
            }
          },
          "metadata": {},
          "execution_count": 1
        }
      ],
      "source": [
        "\n",
        "Str=input()\n",
        "Newstr=Str[::-1]\n",
        "Newstr"
      ]
    },
    {
      "cell_type": "markdown",
      "id": "6928e1e5",
      "metadata": {
        "id": "6928e1e5"
      },
      "source": [
        "# Q.2"
      ]
    },
    {
      "cell_type": "code",
      "execution_count": null,
      "id": "ea4a2a1d",
      "metadata": {
        "colab": {
          "base_uri": "https://localhost:8080/"
        },
        "id": "ea4a2a1d",
        "outputId": "542716bf-d9b5-4d2e-b8fb-92193bebfc4e"
      },
      "outputs": [
        {
          "output_type": "stream",
          "name": "stdout",
          "text": [
            "45\n",
            "55\n",
            "65\n",
            "75\n",
            "Max number is 75\n",
            "Min number is 45\n"
          ]
        }
      ],
      "source": [
        "\n",
        "b=input()\n",
        "c=input()\n",
        "d=input()\n",
        "e=input()\n",
        "B=int(b)\n",
        "C=int(c)\n",
        "D=int(d)\n",
        "E=int(e)\n",
        "\n",
        "\n",
        "f=[B,C,D,E]\n",
        "print('Max number is',max(f))\n",
        "print('Min number is',min(f))\n"
      ]
    },
    {
      "cell_type": "markdown",
      "id": "2329e14e",
      "metadata": {
        "id": "2329e14e"
      },
      "source": [
        "# Q.3"
      ]
    },
    {
      "cell_type": "code",
      "execution_count": null,
      "id": "c7801a55",
      "metadata": {
        "colab": {
          "base_uri": "https://localhost:8080/"
        },
        "id": "c7801a55",
        "outputId": "2d4023d8-ddb0-4dca-a2a0-a6ec51668231"
      },
      "outputs": [
        {
          "output_type": "stream",
          "name": "stdout",
          "text": [
            "15\n",
            "85\n",
            "75\n",
            "98\n",
            "Sum is 273\n"
          ]
        }
      ],
      "source": [
        "\n",
        "\n",
        "b=input()\n",
        "c=input()\n",
        "d=input()\n",
        "e=input()\n",
        "B=int(b)\n",
        "C=int(c)\n",
        "D=int(d)\n",
        "E=int(e)\n",
        "\n",
        "print('Sum is',B+C+D+E)"
      ]
    },
    {
      "cell_type": "markdown",
      "id": "f507c982",
      "metadata": {
        "id": "f507c982"
      },
      "source": [
        "# Q.5\n",
        "\n"
      ]
    },
    {
      "cell_type": "code",
      "execution_count": null,
      "id": "eab1cfcb",
      "metadata": {
        "colab": {
          "base_uri": "https://localhost:8080/"
        },
        "id": "eab1cfcb",
        "outputId": "a6b855b2-989c-4e2a-d782-4f04bbfe4220"
      },
      "outputs": [
        {
          "output_type": "stream",
          "name": "stdout",
          "text": [
            "2\n",
            "4\n",
            "6\n",
            "8\n",
            "10\n",
            "12\n",
            "14\n",
            "16\n",
            "18\n",
            "20\n",
            "22\n",
            "24\n",
            "26\n",
            "28\n",
            "30\n",
            "32\n"
          ]
        }
      ],
      "source": [
        "L=[1,2,3,4,5,6,7,8,9,10,11,12,13,14,15,16,17,18,19,20,21,22,23,24,25,26,27,28,29,30,31,32]\n",
        "List=[]\n",
        "for i in(L):\n",
        "    if i%2==0:\n",
        "        List=i\n",
        "        print(List)\n",
        "     \n",
        "        \n",
        "        \n",
        "        \n",
        "    "
      ]
    },
    {
      "cell_type": "code",
      "execution_count": null,
      "id": "9633f380",
      "metadata": {
        "colab": {
          "base_uri": "https://localhost:8080/",
          "height": 165
        },
        "id": "9633f380",
        "outputId": "109159f5-7d28-4266-b5eb-f3117e5b5c4d"
      },
      "outputs": [
        {
          "output_type": "error",
          "ename": "NameError",
          "evalue": "ignored",
          "traceback": [
            "\u001b[0;31m---------------------------------------------------------------------------\u001b[0m",
            "\u001b[0;31mNameError\u001b[0m                                 Traceback (most recent call last)",
            "\u001b[0;32m<ipython-input-5-de4ec2451336>\u001b[0m in \u001b[0;36m<module>\u001b[0;34m()\u001b[0m\n\u001b[0;32m----> 1\u001b[0;31m \u001b[0mprint\u001b[0m\u001b[0;34m(\u001b[0m\u001b[0mfunction_names\u001b[0m\u001b[0;34m.\u001b[0m\u001b[0m__code__\u001b[0m\u001b[0;34m.\u001b[0m\u001b[0mco_nlocals\u001b[0m\u001b[0;34m)\u001b[0m\u001b[0;34m\u001b[0m\u001b[0;34m\u001b[0m\u001b[0m\n\u001b[0m",
            "\u001b[0;31mNameError\u001b[0m: name 'function_names' is not defined"
          ]
        }
      ],
      "source": [
        "print(function_names.__code__.co_nlocals)"
      ]
    }
  ],
  "metadata": {
    "kernelspec": {
      "display_name": "Python 3 (ipykernel)",
      "language": "python",
      "name": "python3"
    },
    "language_info": {
      "codemirror_mode": {
        "name": "ipython",
        "version": 3
      },
      "file_extension": ".py",
      "mimetype": "text/x-python",
      "name": "python",
      "nbconvert_exporter": "python",
      "pygments_lexer": "ipython3",
      "version": "3.9.7"
    },
    "colab": {
      "name": "Assignment_2(Ganesh).ipynb",
      "provenance": [],
      "include_colab_link": true
    }
  },
  "nbformat": 4,
  "nbformat_minor": 5
}